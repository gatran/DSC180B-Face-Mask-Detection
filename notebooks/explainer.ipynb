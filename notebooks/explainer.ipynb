{
 "cells": [
  {
   "cell_type": "code",
   "execution_count": 2,
   "metadata": {},
   "outputs": [],
   "source": [
    "import torch\n",
    "import numpy as np\n",
    "import torch.nn.functional as F\n",
    "import cv2\n",
    "import argparse\n",
    "import os"
   ]
  },
  {
   "cell_type": "code",
   "execution_count": 3,
   "metadata": {},
   "outputs": [],
   "source": [
    "# integrated gradients\n",
    "def integrated_gradients(inputs, model, target_label_idx, predict_and_gradients, baseline, steps=50, cuda=False):\n",
    "    if baseline is None:\n",
    "        baseline = 0 * inputs \n",
    "    # scale inputs and compute gradients\n",
    "    scaled_inputs = [baseline + (float(i) / steps) * (inputs - baseline) for i in range(0, steps + 1)]\n",
    "    grads, _ = predict_and_gradients(scaled_inputs, model, target_label_idx, cuda)\n",
    "    avg_grads = np.average(grads[:-1], axis=0)\n",
    "    avg_grads = np.transpose(avg_grads, (1, 2, 0))\n",
    "    delta_X = (pre_processing(inputs, cuda) - pre_processing(baseline, cuda)).detach().squeeze(0).cpu().numpy()\n",
    "    delta_X = np.transpose(delta_X, (1, 2, 0))\n",
    "    integrated_grad = delta_X * avg_grads\n",
    "    return integrated_grad\n",
    "\n",
    "def random_baseline_integrated_gradients(inputs, model, target_label_idx, predict_and_gradients, steps, num_random_trials, cuda):\n",
    "    all_intgrads = []\n",
    "    for i in range(num_random_trials):\n",
    "        integrated_grad = integrated_gradients(inputs, model, target_label_idx, predict_and_gradients, \\\n",
    "                                                baseline=255.0 *np.random.random(inputs.shape), steps=steps, cuda=cuda)\n",
    "        all_intgrads.append(integrated_grad)\n",
    "        print('the trial number is: {}'.format(i))\n",
    "    avg_intgrads = np.average(np.array(all_intgrads), axis=0)\n",
    "    return avg_intgrads"
   ]
  },
  {
   "cell_type": "code",
   "execution_count": 4,
   "metadata": {},
   "outputs": [],
   "source": [
    "\n",
    "def calculate_outputs_and_gradients(inputs, model, target_label_idx, cuda=False):\n",
    "    # do the pre-processing\n",
    "    predict_idx = None\n",
    "    gradients = []\n",
    "    for input in inputs:\n",
    "        input = pre_processing(input, cuda)\n",
    "        output = model(input)\n",
    "        output = F.softmax(output, dim=1)\n",
    "        if target_label_idx is None:\n",
    "            target_label_idx = torch.argmax(output, 1).item()\n",
    "        index = np.ones((output.size()[0], 1)) * target_label_idx\n",
    "        index = torch.tensor(index, dtype=torch.int64)\n",
    "        if cuda:\n",
    "            index = index.cuda()\n",
    "        output = output.gather(1, index)\n",
    "        # clear grad\n",
    "        model.zero_grad()\n",
    "        output.backward()\n",
    "        gradient = input.grad.detach().cpu().numpy()[0]\n",
    "        gradients.append(gradient)\n",
    "    gradients = np.array(gradients)\n",
    "    return gradients, target_label_idx\n",
    "\n",
    "def pre_processing(obs, cuda):\n",
    "    mean = np.array([0.485, 0.456, 0.406]).reshape([1, 1, 3])\n",
    "    std = np.array([0.229, 0.224, 0.225]).reshape([1, 1, 3])\n",
    "    obs = obs / 255\n",
    "    obs = (obs - mean) / std\n",
    "    obs = np.transpose(obs, (2, 0, 1))\n",
    "    obs = np.expand_dims(obs, 0)\n",
    "    obs = np.array(obs)\n",
    "    if cuda:\n",
    "        torch_device = torch.device('cuda:0')\n",
    "    else:\n",
    "        torch_device = torch.device('cpu')\n",
    "    obs_tensor = torch.tensor(obs, dtype=torch.float32, device=torch_device, requires_grad=True)\n",
    "    return obs_tensor\n",
    "\n",
    "# generate the entire images\n",
    "def generate_entrie_images(img_origin, img_grad, img_grad_overlay, img_integrad, img_integrad_overlay):\n",
    "    blank = np.ones((img_grad.shape[0], 10, 3), dtype=np.uint8) * 255\n",
    "    blank_hor = np.ones((10, 20 + img_grad.shape[0] * 3, 3), dtype=np.uint8) * 255\n",
    "    upper = np.concatenate([img_origin[:, :, (2, 1, 0)], blank, img_grad_overlay, blank, img_grad], 1)\n",
    "    down = np.concatenate([img_origin[:, :, (2, 1, 0)], blank, img_integrad_overlay, blank, img_integrad], 1)\n",
    "    total = np.concatenate([upper, blank_hor, down], 0)\n",
    "    total = cv2.resize(total, (550, 364))\n",
    "\n",
    "    return total"
   ]
  },
  {
   "cell_type": "code",
   "execution_count": 5,
   "metadata": {},
   "outputs": [],
   "source": [
    "G = [0, 255, 0]\n",
    "R = [255, 0, 0]\n",
    "\n",
    "def convert_to_gray_scale(attributions):\n",
    "    return np.average(attributions, axis=2)\n",
    "\n",
    "def linear_transform(attributions, clip_above_percentile=99.9, clip_below_percentile=70.0, low=0.2, plot_distribution=False):\n",
    "    m = compute_threshold_by_top_percentage(attributions, percentage=100-clip_above_percentile, plot_distribution=plot_distribution)\n",
    "    e = compute_threshold_by_top_percentage(attributions, percentage=100-clip_below_percentile, plot_distribution=plot_distribution)\n",
    "    transformed = (1 - low) * (np.abs(attributions) - e) / (m - e) + low\n",
    "    transformed *= np.sign(attributions)\n",
    "    transformed *= (transformed >= low)\n",
    "    transformed = np.clip(transformed, 0.0, 1.0)\n",
    "    return transformed\n",
    "\n",
    "def compute_threshold_by_top_percentage(attributions, percentage=60, plot_distribution=True):\n",
    "    if percentage < 0 or percentage > 100:\n",
    "        raise ValueError('percentage must be in [0, 100]')\n",
    "    if percentage == 100:\n",
    "        return np.min(attributions)\n",
    "    flat_attributions = attributions.flatten()\n",
    "    attribution_sum = np.sum(flat_attributions)\n",
    "    sorted_attributions = np.sort(np.abs(flat_attributions))[::-1]\n",
    "    cum_sum = 100.0 * np.cumsum(sorted_attributions) / attribution_sum\n",
    "    threshold_idx = np.where(cum_sum >= percentage)[0][0]\n",
    "    threshold = sorted_attributions[threshold_idx]\n",
    "    if plot_distribution:\n",
    "        raise NotImplementedError \n",
    "    return threshold\n",
    "\n",
    "def polarity_function(attributions, polarity):\n",
    "    if polarity == 'positive':\n",
    "        return np.clip(attributions, 0, 1)\n",
    "    elif polarity == 'negative':\n",
    "        return np.clip(attributions, -1, 0)\n",
    "    else:\n",
    "        raise NotImplementedError\n",
    "\n",
    "def overlay_function(attributions, image):\n",
    "    return np.clip(0.7 * image + 0.5 * attributions, 0, 255)\n",
    "\n",
    "def visualize(attributions, image, positive_channel=G, negative_channel=R, polarity='positive', \\\n",
    "                clip_above_percentile=99.9, clip_below_percentile=0, morphological_cleanup=False, \\\n",
    "                structure=np.ones((3, 3)), outlines=False, outlines_component_percentage=90, overlay=True, \\\n",
    "                mask_mode=False, plot_distribution=False):\n",
    "    if polarity == 'both':\n",
    "        raise NotImplementedError\n",
    "\n",
    "    elif polarity == 'positive':\n",
    "        attributions = polarity_function(attributions, polarity=polarity)\n",
    "        channel = positive_channel\n",
    "    \n",
    "    # convert the attributions to the gray scale\n",
    "    attributions = convert_to_gray_scale(attributions)\n",
    "    attributions = linear_transform(attributions, clip_above_percentile, clip_below_percentile, 0.0, plot_distribution=plot_distribution)\n",
    "    attributions_mask = attributions.copy()\n",
    "    if morphological_cleanup:\n",
    "        raise NotImplementedError\n",
    "    if outlines:\n",
    "        raise NotImplementedError\n",
    "    attributions = np.expand_dims(attributions, 2) * channel\n",
    "    if overlay:\n",
    "        if mask_mode == False:\n",
    "            attributions = overlay_function(attributions, image)\n",
    "        else:\n",
    "            attributions = np.expand_dims(attributions_mask, 2)\n",
    "            attributions = np.clip(attributions * image, 0, 255)\n",
    "            attributions = attributions[:, :, (2, 1, 0)]\n",
    "    return attributions"
   ]
  },
  {
   "cell_type": "code",
   "execution_count": 14,
   "metadata": {},
   "outputs": [
    {
     "name": "stdout",
     "output_type": "stream",
     "text": [
      "the trial number is: 0\n",
      "the trial number is: 1\n",
      "the trial number is: 2\n",
      "the trial number is: 3\n",
      "the trial number is: 4\n",
      "the trial number is: 5\n",
      "the trial number is: 6\n",
      "the trial number is: 7\n",
      "the trial number is: 8\n",
      "the trial number is: 9\n"
     ]
    }
   ],
   "source": [
    "import numpy as np\n",
    "\n",
    "import argparse\n",
    "import os\n",
    "\n",
    "\"\"\"\n",
    "parser = argparse.ArgumentParser(description='integrated-gradients')\n",
    "parser.add_argument('--cuda', action='store_true', help='if use the cuda to do the accelartion')\n",
    "parser.add_argument('--model-type', type=str, default='inception', help='the type of network')\n",
    "parser.add_argument('--img', type=str, default='01.jpg', help='the images name')\n",
    "\"\"\"\n",
    "\n",
    "    \n",
    "model = torch.load(\"../models/model_resnet_best_val_acc_0.955.pt\")\n",
    "#model.eval()\n",
    "device = torch.device(\"cuda:0\")\n",
    "model.to(device)\n",
    "args = get_args()\n",
    "# read the image\n",
    "img = cv2.imread(\"/datasets/MaskedFace-Net/validation/uncovered/58978.jpg\")\n",
    "\n",
    "img = cv2.resize(img, (224, 224))\n",
    "img = img.astype(np.float32) \n",
    "img = img[:, :, (2, 1, 0)]\n",
    "# calculate the gradient and the label index\n",
    "gradients, label_index = calculate_outputs_and_gradients([img], model, None, True)\n",
    "gradients = np.transpose(gradients[0], (1, 2, 0))\n",
    "img_gradient_overlay = visualize(gradients, img, clip_above_percentile=99, clip_below_percentile=0, overlay=True, mask_mode=True)\n",
    "img_gradient = visualize(gradients, img, clip_above_percentile=99, clip_below_percentile=0, overlay=False)\n",
    "\n",
    "# calculae the integrated gradients \n",
    "attributions = random_baseline_integrated_gradients(img, model, label_index, calculate_outputs_and_gradients, \\\n",
    "                                                    steps=50, num_random_trials=10, cuda=True)\n",
    "img_integrated_gradient_overlay = visualize(attributions, img, clip_above_percentile=99, clip_below_percentile=0, \\\n",
    "                                            overlay=True, mask_mode=True)\n",
    "img_integrated_gradient = visualize(attributions, img, clip_above_percentile=99, clip_below_percentile=0, overlay=False)\n",
    "output_img = generate_entrie_images(img, img_gradient, img_gradient_overlay, img_integrated_gradient, \\\n",
    "                                    img_integrated_gradient_overlay)\n",
    "#cv2.imwrite('results/' + args.model_type + '/' + args.img, np.uint8(output_img))"
   ]
  },
  {
   "cell_type": "code",
   "execution_count": 13,
   "metadata": {},
   "outputs": [
    {
     "data": {
      "text/plain": [
       "True"
      ]
     },
     "execution_count": 13,
     "metadata": {},
     "output_type": "execute_result"
    }
   ],
   "source": [
    "cv2.imwrite('../results/sss.jpg', np.uint8(output_img))"
   ]
  },
  {
   "cell_type": "code",
   "execution_count": 16,
   "metadata": {},
   "outputs": [
    {
     "ename": "TypeError",
     "evalue": "index() takes at least 1 argument (0 given)",
     "output_type": "error",
     "traceback": [
      "\u001b[0;31m\u001b[0m",
      "\u001b[0;31mTypeError\u001b[0mTraceback (most recent call last)",
      "\u001b[0;32m<ipython-input-16-b8ff211ff6c1>\u001b[0m in \u001b[0;36m<module>\u001b[0;34m\u001b[0m\n\u001b[0;32m----> 1\u001b[0;31m \u001b[0mstr\u001b[0m\u001b[0;34m.\u001b[0m\u001b[0mindex\u001b[0m\u001b[0;34m(\u001b[0m\u001b[0;34m\"/datasets/MaskedFace-Net/validation/uncovered/58978.jpg\"\u001b[0m\u001b[0;34m)\u001b[0m\u001b[0;34m\u001b[0m\u001b[0;34m\u001b[0m\u001b[0m\n\u001b[0m",
      "\u001b[0;31mTypeError\u001b[0m: index() takes at least 1 argument (0 given)"
     ]
    }
   ],
   "source": [
    "str.index(\"/datasets/MaskedFace-Net/validation/uncovered/58978.jpg\")"
   ]
  },
  {
   "cell_type": "code",
   "execution_count": null,
   "metadata": {},
   "outputs": [],
   "source": []
  }
 ],
 "metadata": {
  "kernelspec": {
   "display_name": "Python 3",
   "language": "python",
   "name": "python3"
  },
  "language_info": {
   "codemirror_mode": {
    "name": "ipython",
    "version": 3
   },
   "file_extension": ".py",
   "mimetype": "text/x-python",
   "name": "python",
   "nbconvert_exporter": "python",
   "pygments_lexer": "ipython3",
   "version": "3.7.6"
  }
 },
 "nbformat": 4,
 "nbformat_minor": 4
}
