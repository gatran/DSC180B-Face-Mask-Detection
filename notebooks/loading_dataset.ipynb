{
 "cells": [
  {
   "cell_type": "code",
   "execution_count": 1,
   "metadata": {},
   "outputs": [],
   "source": [
    "import numpy as np \n",
    "import pandas as pd\n",
    "import torch\n",
    "import os\n",
    "from PIL import Image"
   ]
  },
  {
   "cell_type": "code",
   "execution_count": 2,
   "metadata": {},
   "outputs": [],
   "source": [
    "import torchvision"
   ]
  },
  {
   "cell_type": "code",
   "execution_count": 40,
   "metadata": {},
   "outputs": [],
   "source": [
    "from torchvision import transforms"
   ]
  },
  {
   "cell_type": "code",
   "execution_count": 21,
   "metadata": {},
   "outputs": [],
   "source": [
    "from pathlib import Path"
   ]
  },
  {
   "cell_type": "code",
   "execution_count": 22,
   "metadata": {},
   "outputs": [],
   "source": [
    "from os.path import dirname, abspath"
   ]
  },
  {
   "cell_type": "code",
   "execution_count": 28,
   "metadata": {},
   "outputs": [],
   "source": [
    "d = dirname(dirname(dirname(dirname(dirname(dirname(dirname(dirname(abspath(\"loading_dataset.ipynb\")))))))))"
   ]
  },
  {
   "cell_type": "code",
   "execution_count": 31,
   "metadata": {},
   "outputs": [],
   "source": [
    "os.chdir(d + \"/MaskedFace-Net\")"
   ]
  },
  {
   "cell_type": "code",
   "execution_count": 56,
   "metadata": {},
   "outputs": [],
   "source": [
    "transform_train = transforms.Compose(\n",
    "    [transforms.RandomRotation(20),\n",
    "     transforms.RandomHorizontalFlip(0.5),\n",
    "     transforms.CenterCrop(300),\n",
    "     transforms.ToTensor(),\n",
    "     transforms.Normalize((0.5, 0.5, 0.5), (0.5, 0.5, 0.5))])"
   ]
  },
  {
   "cell_type": "code",
   "execution_count": 64,
   "metadata": {},
   "outputs": [],
   "source": [
    "transform_val = transforms.Compose(\n",
    "    [transforms.CenterCrop(300),\n",
    "     transforms.ToTensor(),\n",
    "     transforms.Normalize((0.5, 0.5, 0.5), (0.5, 0.5, 0.5))])"
   ]
  },
  {
   "cell_type": "code",
   "execution_count": 57,
   "metadata": {},
   "outputs": [],
   "source": [
    "maskedface_net_train = torchvision.datasets.ImageFolder(\"../MaskedFace-Net/train\", transform=transform_train)"
   ]
  },
  {
   "cell_type": "code",
   "execution_count": 67,
   "metadata": {},
   "outputs": [],
   "source": [
    "maskedface_net_val = torchvision.datasets.ImageFolder(\"../MaskedFace-Net/validation\", transform=transform_val)"
   ]
  },
  {
   "cell_type": "code",
   "execution_count": 74,
   "metadata": {},
   "outputs": [],
   "source": [
    "maskedface_net_test = torchvision.datasets.ImageFolder(\"../MaskedFace-Net/holdout\", transform=transform_val)"
   ]
  },
  {
   "cell_type": "code",
   "execution_count": 61,
   "metadata": {},
   "outputs": [],
   "source": [
    "data_loader_train = torch.utils.data.DataLoader(maskedface_net_train,\n",
    "                                          batch_size=4,\n",
    "                                          shuffle=True)"
   ]
  },
  {
   "cell_type": "code",
   "execution_count": 68,
   "metadata": {},
   "outputs": [],
   "source": [
    "data_loader_val = torch.utils.data.DataLoader(maskedface_net_val,\n",
    "                                             batch_size=4,\n",
    "                                             shuffle=True)"
   ]
  },
  {
   "cell_type": "code",
   "execution_count": 75,
   "metadata": {},
   "outputs": [],
   "source": [
    "data_loader_test = torch.utils.data.DataLoader(maskedface_net_test,\n",
    "                                             batch_size=4,\n",
    "                                             shuffle=True)"
   ]
  },
  {
   "cell_type": "code",
   "execution_count": 79,
   "metadata": {},
   "outputs": [],
   "source": [
    "device = torch.device(\"cuda\")"
   ]
  },
  {
   "cell_type": "code",
   "execution_count": 90,
   "metadata": {},
   "outputs": [
    {
     "data": {
      "text/plain": [
       "[tensor([[[[-0.6784, -0.6941, -0.6863,  ...,  0.5451,  0.5529,  0.5451],\n",
       "           [-0.6784, -0.7098, -0.6941,  ...,  0.5765,  0.5843,  0.5608],\n",
       "           [-0.6706, -0.7020, -0.6941,  ...,  0.5686,  0.5843,  0.5922],\n",
       "           ...,\n",
       "           [ 0.2392,  0.2471,  0.2549,  ...,  0.0118,  0.0510,  0.2314],\n",
       "           [ 0.2471,  0.2471,  0.2706,  ...,  0.0980,  0.0353,  0.0745],\n",
       "           [ 0.2784,  0.2549,  0.2706,  ...,  0.3490,  0.2314,  0.0824]],\n",
       " \n",
       "          [[-0.6941, -0.7098, -0.7020,  ...,  0.1843,  0.1765,  0.1765],\n",
       "           [-0.6941, -0.7255, -0.7098,  ...,  0.2000,  0.2078,  0.1843],\n",
       "           [-0.6863, -0.7176, -0.7098,  ...,  0.1922,  0.2078,  0.2000],\n",
       "           ...,\n",
       "           [ 0.6941,  0.7020,  0.7098,  ...,  0.4196,  0.4039,  0.3882],\n",
       "           [ 0.7020,  0.7020,  0.7255,  ...,  0.4353,  0.3647,  0.3725],\n",
       "           [ 0.7333,  0.7098,  0.7255,  ...,  0.4745,  0.4118,  0.4196]],\n",
       " \n",
       "          [[-0.7961, -0.8118, -0.7961,  ...,  0.0667,  0.0667,  0.0510],\n",
       "           [-0.7961, -0.8196, -0.8039,  ...,  0.1059,  0.1137,  0.0745],\n",
       "           [-0.7882, -0.8118, -0.8039,  ...,  0.1137,  0.1137,  0.1137],\n",
       "           ...,\n",
       "           [ 0.8667,  0.8745,  0.8824,  ...,  0.5843,  0.5686,  0.5765],\n",
       "           [ 0.8588,  0.8588,  0.8824,  ...,  0.5843,  0.5373,  0.5529],\n",
       "           [ 0.8902,  0.8667,  0.8824,  ...,  0.6000,  0.5529,  0.5529]]],\n",
       " \n",
       " \n",
       "         [[[ 0.6471,  0.6784,  0.7569,  ...,  0.4667,  0.4667,  0.4667],\n",
       "           [ 0.7020,  0.6941,  0.7098,  ...,  0.4667,  0.4667,  0.4667],\n",
       "           [ 0.7255,  0.6863,  0.6941,  ...,  0.4588,  0.4588,  0.4667],\n",
       "           ...,\n",
       "           [ 0.6314,  0.6314,  0.6235,  ...,  0.7176,  0.7176,  0.7176],\n",
       "           [ 0.6235,  0.6235,  0.6314,  ...,  0.7176,  0.7176,  0.7176],\n",
       "           [ 0.6235,  0.6157,  0.6157,  ...,  0.7176,  0.7176,  0.7176]],\n",
       " \n",
       "          [[ 0.1765,  0.1765,  0.2235,  ...,  0.2000,  0.2000,  0.2000],\n",
       "           [ 0.2078,  0.1765,  0.1765,  ...,  0.2000,  0.2000,  0.2000],\n",
       "           [ 0.2471,  0.1686,  0.1765,  ...,  0.1922,  0.2078,  0.2157],\n",
       "           ...,\n",
       "           [ 0.3804,  0.3804,  0.3882,  ...,  0.4588,  0.4588,  0.4588],\n",
       "           [ 0.3725,  0.3882,  0.3961,  ...,  0.4588,  0.4588,  0.4588],\n",
       "           [ 0.3725,  0.3804,  0.3804,  ...,  0.4588,  0.4588,  0.4588]],\n",
       " \n",
       "          [[-0.3961, -0.4039, -0.3490,  ...,  0.1216,  0.1216,  0.1216],\n",
       "           [-0.3961, -0.4353, -0.4118,  ...,  0.1216,  0.1216,  0.1216],\n",
       "           [-0.3804, -0.4431, -0.4353,  ...,  0.1137,  0.1216,  0.1294],\n",
       "           ...,\n",
       "           [ 0.2784,  0.2941,  0.3020,  ...,  0.3412,  0.3255,  0.3255],\n",
       "           [ 0.2863,  0.3020,  0.3098,  ...,  0.3412,  0.3255,  0.3255],\n",
       "           [ 0.2863,  0.2941,  0.2941,  ...,  0.3255,  0.3255,  0.3255]]],\n",
       " \n",
       " \n",
       "         [[[ 0.3804,  0.3882,  0.3490,  ...,  0.9294,  0.8980,  0.9216],\n",
       "           [ 0.3098,  0.3882,  0.3804,  ...,  0.9529,  0.9373,  0.9373],\n",
       "           [ 0.3333,  0.3961,  0.3961,  ...,  0.9529,  0.9529,  0.9608],\n",
       "           ...,\n",
       "           [ 0.1922,  0.1843,  0.1529,  ...,  0.6706,  0.6706,  0.6549],\n",
       "           [ 0.2078,  0.2078,  0.1529,  ...,  0.6706,  0.6784,  0.6706],\n",
       "           [ 0.2078,  0.2157,  0.1765,  ...,  0.6627,  0.6784,  0.6706]],\n",
       " \n",
       "          [[ 0.0275,  0.0353, -0.0118,  ...,  0.4588,  0.4275,  0.4510],\n",
       "           [-0.0431,  0.0353,  0.0275,  ...,  0.4667,  0.4667,  0.4667],\n",
       "           [-0.0196,  0.0275,  0.0275,  ...,  0.4667,  0.4667,  0.4745],\n",
       "           ...,\n",
       "           [ 0.6627,  0.6549,  0.6235,  ...,  0.8745,  0.8745,  0.8745],\n",
       "           [ 0.6784,  0.6784,  0.6235,  ...,  0.8510,  0.8588,  0.8745],\n",
       "           [ 0.6784,  0.6863,  0.6471,  ...,  0.8510,  0.8588,  0.8510]],\n",
       " \n",
       "          [[-0.2000, -0.1922, -0.2157,  ...,  0.2392,  0.2078,  0.2314],\n",
       "           [-0.2706, -0.1922, -0.2000,  ...,  0.2706,  0.2627,  0.2627],\n",
       "           [-0.2471, -0.1922, -0.1922,  ...,  0.2706,  0.2706,  0.2941],\n",
       "           ...,\n",
       "           [ 0.8824,  0.8745,  0.8431,  ...,  0.9765,  0.9765,  0.9843],\n",
       "           [ 0.8824,  0.8824,  0.8431,  ...,  0.9608,  0.9686,  0.9922],\n",
       "           [ 0.8824,  0.8902,  0.8510,  ...,  0.9451,  0.9686,  0.9765]]],\n",
       " \n",
       " \n",
       "         [[[ 0.7569,  0.7647,  0.7725,  ...,  0.3647,  0.3961,  0.3569],\n",
       "           [ 0.7882,  0.7961,  0.7804,  ...,  0.3725,  0.3804,  0.3412],\n",
       "           [ 0.8431,  0.8275,  0.7961,  ...,  0.3490,  0.3490,  0.3255],\n",
       "           ...,\n",
       "           [ 0.8196,  0.8431,  0.8275,  ...,  0.5373,  0.5059,  0.5059],\n",
       "           [ 0.8275,  0.8510,  0.8510,  ...,  0.5529,  0.5216,  0.5059],\n",
       "           [ 0.8196,  0.8275,  0.8431,  ...,  0.6000,  0.5765,  0.5451]],\n",
       " \n",
       "          [[ 0.2392,  0.2627,  0.2784,  ..., -0.0824, -0.0510, -0.0745],\n",
       "           [ 0.2863,  0.2941,  0.2863,  ..., -0.0824, -0.0667, -0.0902],\n",
       "           [ 0.3490,  0.3333,  0.3020,  ..., -0.0902, -0.0902, -0.1137],\n",
       "           ...,\n",
       "           [ 0.2392,  0.2627,  0.2314,  ..., -0.0431, -0.0353, -0.0353],\n",
       "           [ 0.2627,  0.2706,  0.2549,  ...,  0.0118, -0.0039, -0.0039],\n",
       "           [ 0.2549,  0.2471,  0.2627,  ...,  0.0510,  0.0510,  0.0353]],\n",
       " \n",
       "          [[-0.0353, -0.0196,  0.0039,  ..., -0.2941, -0.2784, -0.3098],\n",
       "           [ 0.0118,  0.0196,  0.0118,  ..., -0.2706, -0.2784, -0.3255],\n",
       "           [ 0.0745,  0.0588,  0.0431,  ..., -0.2863, -0.3020, -0.3255],\n",
       "           ...,\n",
       "           [ 0.0431,  0.0667,  0.0275,  ..., -0.2706, -0.2627, -0.2627],\n",
       "           [ 0.0667,  0.0745,  0.0510,  ..., -0.2157, -0.2314, -0.2392],\n",
       "           [ 0.0588,  0.0510,  0.0510,  ..., -0.1529, -0.1608, -0.2000]]]]),\n",
       " tensor([1, 2, 0, 2])]"
      ]
     },
     "execution_count": 90,
     "metadata": {},
     "output_type": "execute_result"
    }
   ],
   "source": [
    "iter(data_loader_train).next()"
   ]
  },
  {
   "cell_type": "code",
   "execution_count": 10,
   "metadata": {},
   "outputs": [],
   "source": [
    "def get_resnet():\n",
    "    input_img = Input((1,28,28),name='input_layer')\n",
    "    zeroPad1 = ZeroPadding2D((1,1), name='zeroPad1', dim_ordering='th')\n",
    "    zeroPad1_2 = ZeroPadding2D((1,1), name='zeroPad1_2', dim_ordering='th')\n",
    "    layer1 = Convolution2D(6, 3, 3, subsample=(2, 2), init='he_uniform', name='major_conv', dim_ordering='th')\n",
    "    layer1_2 = Convolution2D(16, 3, 3, subsample=(2, 2), init='he_uniform', name='major_conv2', dim_ordering='th')\n",
    "    zeroPad2 = ZeroPadding2D((1,1), name='zeroPad2', dim_ordering='th')\n",
    "    zeroPad2_2 = ZeroPadding2D((1,1), name='zeroPad2_2', dim_ordering='th')\n",
    "    layer2 = Convolution2D(6, 3, 3, subsample=(1,1), init='he_uniform', name='l1_conv', dim_ordering='th')\n",
    "    layer2_2 = Convolution2D(16, 3, 3, subsample=(1,1), init='he_uniform', name='l1_conv2', dim_ordering='th')\n",
    "    zeroPad3 = ZeroPadding2D((1,1), name='zeroPad3', dim_ordering='th')\n",
    "    zeroPad3_2 = ZeroPadding2D((1,1), name='zeroPad3_2', dim_ordering='th')\n",
    "    layer3 = Convolution2D(6, 3, 3, subsample=(1, 1), init='he_uniform', name='l2_conv', dim_ordering='th')\n",
    "    layer3_2 = Convolution2D(16, 3, 3, subsample=(1, 1), init='he_uniform', name='l2_conv2', dim_ordering='th')\n",
    "    layer4 = Dense(64, activation='relu', init='he_uniform', name='dense1')\n",
    "    layer5 = Dense(16, activation='relu', init='he_uniform', name='dense2')\n",
    "    final = Dense(10, activation='softmax', init='he_uniform', name='classifier')\n",
    "    \n",
    "    sgd = SGD(decay=0., lr=0.01, momentum=0.9, nesterov=True)\n",
    "    model.compile(loss=scc, optimizer=sgd, metrics=['accuracy'])\n",
    "    return model"
   ]
  },
  {
   "cell_type": "code",
   "execution_count": null,
   "metadata": {},
   "outputs": [],
   "source": []
  }
 ],
 "metadata": {
  "kernelspec": {
   "display_name": "Python 3",
   "language": "python",
   "name": "python3"
  },
  "language_info": {
   "codemirror_mode": {
    "name": "ipython",
    "version": 3
   },
   "file_extension": ".py",
   "mimetype": "text/x-python",
   "name": "python",
   "nbconvert_exporter": "python",
   "pygments_lexer": "ipython3",
   "version": "3.7.6"
  }
 },
 "nbformat": 4,
 "nbformat_minor": 4
}
