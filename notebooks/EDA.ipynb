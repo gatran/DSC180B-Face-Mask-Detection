{
 "cells": [
  {
   "cell_type": "markdown",
   "metadata": {},
   "source": [
    "# EDA"
   ]
  },
  {
   "cell_type": "code",
   "execution_count": 50,
   "metadata": {},
   "outputs": [],
   "source": [
    "import numpy as np \n",
    "import pandas as pd\n",
    "import torch\n",
    "import os\n",
    "from PIL import Image\n",
    "import matplotlib.pyplot as plt\n",
    "from pathlib import Path\n",
    "from os.path import dirname, abspath"
   ]
  },
  {
   "cell_type": "code",
   "execution_count": 51,
   "metadata": {},
   "outputs": [],
   "source": [
    "#Get paths \n",
    "train_corr = \"/datasets/MaskedFace-Net/train/covered\"\n",
    "train_incorr = \"/datasets/MaskedFace-Net/train/incorrect\"\n",
    "train_uncovered = \"/datasets/MaskedFace-Net/train/uncovered\"\n",
    "\n",
    "#Holdout == Test set\n",
    "holdout_corr = \"/datasets/MaskedFace-Net/holdout/covered\"\n",
    "holdout_incorr = \"/datasets/MaskedFace-Net/holdout/incorrect\"\n",
    "holdout_uncovered = \"/datasets/MaskedFace-Net/holdout/uncovered\"\n",
    "\n",
    "val_corr = \"/datasets/MaskedFace-Net/validation/covered\"\n",
    "val_incorr = \"/datasets/MaskedFace-Net/validation/incorrect\"\n",
    "val_uncovered = \"/datasets/MaskedFace-Net/validation/uncovered\""
   ]
  },
  {
   "cell_type": "code",
   "execution_count": 52,
   "metadata": {},
   "outputs": [],
   "source": [
    "train_corr_imgs = os.listdir(train_corr)\n",
    "train_incorr_imgs = os.listdir(train_incorr)\n",
    "train_uncovered_imgs = os.listdir(train_uncovered)"
   ]
  },
  {
   "cell_type": "code",
   "execution_count": 53,
   "metadata": {},
   "outputs": [],
   "source": [
    "train_dim = np.array([len(train_corr_imgs), len(train_incorr_imgs), len(train_uncovered_imgs)])\n",
    "pd.DataFrame(train_dim, columns = ['Size'], index = ['Train Mask Correct', 'Train Mask Incorrect', 'Train Mask Uncovered']).to_csv('../results/data_dim.csv')"
   ]
  },
  {
   "cell_type": "code",
   "execution_count": 54,
   "metadata": {},
   "outputs": [
    {
     "name": "stdout",
     "output_type": "stream",
     "text": [
      "CPU times: user 5.14 s, sys: 5.85 s, total: 11 s\n",
      "Wall time: 23.3 s\n"
     ]
    }
   ],
   "source": [
    "%%time\n",
    "width = []\n",
    "height = []\n",
    "\n",
    "for i in train_corr_imgs:\n",
    "    img = Image.open(train_corr + '/' + i)\n",
    "    shape = img.size\n",
    "    width.append(shape[0])\n",
    "    height.append(shape[1])\n",
    "    \n",
    "for i in train_incorr_imgs:\n",
    "    img = Image.open(train_incorr + '/' + i)\n",
    "    shape = img.size\n",
    "    width.append(shape[0])\n",
    "    height.append(shape[1])\n",
    "    \n",
    "for i in train_uncovered_imgs:\n",
    "    img = Image.open(train_uncovered + '/' + i)\n",
    "    shape = img.size\n",
    "    width.append(shape[0])\n",
    "    height.append(shape[1])"
   ]
  },
  {
   "cell_type": "code",
   "execution_count": 57,
   "metadata": {},
   "outputs": [
    {
     "data": {
      "image/png": "[encoded data removed]",
      "text/plain": [
       "<Figure size 432x288 with 1 Axes>"
      ]
     },
     "metadata": {
      "needs_background": "light"
     },
     "output_type": "display_data"
    }
   ],
   "source": [
    "pd.Series(width).hist()\n",
    "plt.title('Training Images Width Distribution')\n",
    "plt.xlabel('Width')\n",
    "plt.ylabel('Count')\n",
    "plt.savefig('../results/TrainingWidth.jpg')"
   ]
  },
  {
   "cell_type": "code",
   "execution_count": 56,
   "metadata": {},
   "outputs": [
    {
     "data": {
      "image/png": "[encoded data removed]",
      "text/plain": [
       "<Figure size 432x288 with 1 Axes>"
      ]
     },
     "metadata": {
      "needs_background": "light"
     },
     "output_type": "display_data"
    }
   ],
   "source": [
    "pd.Series(height).hist()\n",
    "plt.title('Training Images Height Distribution')\n",
    "plt.xlabel('Height')\n",
    "plt.ylabel('Count')\n",
    "plt.savefig('../results/TrainingHeight.jpg')"
   ]
  },
  {
   "cell_type": "code",
   "execution_count": 63,
   "metadata": {},
   "outputs": [],
   "source": [
    "img = Image.open(train_corr + '/' + train_corr_imgs[0])\n",
    "img.save('../results/sample1.jpg')\n",
    "img = Image.open(train_incorr + '/' + train_incorr_imgs[0])\n",
    "img.save('../results/sample2.jpg')\n",
    "img = Image.open(train_uncovered + '/' + train_uncovered_imgs[0])\n",
    "img.save('../results/sample3.jpg')"
   ]
  },
  {
   "cell_type": "code",
   "execution_count": null,
   "metadata": {},
   "outputs": [],
   "source": []
  }
 ],
 "metadata": {
  "kernelspec": {
   "display_name": "Python 3",
   "language": "python",
   "name": "python3"
  },
  "language_info": {
   "codemirror_mode": {
    "name": "ipython",
    "version": 3
   },
   "file_extension": ".py",
   "mimetype": "text/x-python",
   "name": "python",
   "nbconvert_exporter": "python",
   "pygments_lexer": "ipython3",
   "version": "3.7.6"
  }
 },
 "nbformat": 4,
 "nbformat_minor": 4
}
