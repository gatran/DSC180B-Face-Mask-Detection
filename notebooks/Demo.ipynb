{
 "cells": [
  {
   "cell_type": "code",
   "execution_count": 53,
   "metadata": {},
   "outputs": [],
   "source": [
    "import tensorflow as tf\n",
    "import os\n",
    "import numpy as np"
   ]
  },
  {
   "cell_type": "code",
   "execution_count": 80,
   "metadata": {},
   "outputs": [],
   "source": [
    "#Get paths \n",
    "train_corr = \"/datasets/MaskedFace-Net/train/covered\"\n",
    "train_incorr = \"/datasets/MaskedFace-Net/train/incorrect\"\n",
    "train_uncovered = \"/datasets/MaskedFace-Net/train/uncovered\"\n",
    "\n",
    "#Holdout == Test set\n",
    "holdout_corr = \"/datasets/MaskedFace-Net/holdout/covered\"\n",
    "holdout_incorr = \"/datasets/MaskedFace-Net/holdout/incorrect\"\n",
    "holdout_uncovered = \"/datasets/MaskedFace-Net/holdout/uncovered\"\n",
    "\n",
    "val_corr = \"/datasets/MaskedFace-Net/validation/covered\"\n",
    "val_incorr = \"/datasets/MaskedFace-Net/validation/incorrect\"\n",
    "val_uncovered = \"/datasets/MaskedFace-Net/validation/uncovered\""
   ]
  },
  {
   "cell_type": "code",
   "execution_count": 81,
   "metadata": {},
   "outputs": [],
   "source": [
    "#filename_dataset = tf.data.Dataset.list_files(train_corr)\n",
    "\n",
    "#image_dataset = filename_dataset.map(lambda x: tf.io.decode_jpeg(tf.read_file(x)))"
   ]
  },
  {
   "cell_type": "code",
   "execution_count": 82,
   "metadata": {},
   "outputs": [],
   "source": [
    "#[1, 1, 1] instead?\n",
    "train_corr_imgs = os.listdir(train_corr)\n",
    "labels = ([1] * len(train_corr_imgs))#tf.constant([1] * len(corr_imgs))"
   ]
  },
  {
   "cell_type": "code",
   "execution_count": 83,
   "metadata": {},
   "outputs": [],
   "source": [
    "#[?, ?, ?] instead?\n",
    "train_incorr_imgs = os.listdir(train_incorr)\n",
    "labels = ([0] * len(train_incorr_imgs))#tf.constant([1] * len(corr_imgs))"
   ]
  },
  {
   "cell_type": "code",
   "execution_count": 84,
   "metadata": {},
   "outputs": [],
   "source": [
    "#[0, 0, 0] instead?\n",
    "train_uncovered_imgs = os.listdir(train_uncovered)\n",
    "labels = ([0] * len(train_uncovered_imgs))#tf.constant([1] * len(corr_imgs))"
   ]
  }
 ],
 "metadata": {
  "kernelspec": {
   "display_name": "Python 3",
   "language": "python",
   "name": "python3"
  },
  "language_info": {
   "codemirror_mode": {
    "name": "ipython",
    "version": 3
   },
   "file_extension": ".py",
   "mimetype": "text/x-python",
   "name": "python",
   "nbconvert_exporter": "python",
   "pygments_lexer": "ipython3",
   "version": "3.7.6"
  }
 },
 "nbformat": 4,
 "nbformat_minor": 4
}
